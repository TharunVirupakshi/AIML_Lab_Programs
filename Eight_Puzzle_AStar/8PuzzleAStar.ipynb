{
 "cells": [
  {
   "cell_type": "code",
   "execution_count": 2,
   "metadata": {},
   "outputs": [],
   "source": [
    "import numpy as np\n",
    "from queue import PriorityQueue"
   ]
  },
  {
   "cell_type": "code",
   "execution_count": 3,
   "metadata": {},
   "outputs": [
    {
     "name": "stdout",
     "output_type": "stream",
     "text": [
      "Enter the initial State: \n",
      "Enter the goal State: \n"
     ]
    },
    {
     "name": "stderr",
     "output_type": "stream",
     "text": [
      "/var/folders/m6/94lr4dc16jg7wpl4qryyzmv00000gn/T/ipykernel_52555/2775683174.py:23: FutureWarning: elementwise comparison failed; returning scalar instead, but in the future will perform elementwise comparison\n",
      "  blank_pos = np.where(current_state == 0)\n"
     ]
    },
    {
     "ename": "IndexError",
     "evalue": "tuple index out of range",
     "output_type": "error",
     "traceback": [
      "\u001b[0;31m---------------------------------------------------------------------------\u001b[0m",
      "\u001b[0;31mIndexError\u001b[0m                                Traceback (most recent call last)",
      "Cell \u001b[0;32mIn[3], line 81\u001b[0m\n\u001b[1;32m     77\u001b[0m goal_state \u001b[39m=\u001b[39m np\u001b[39m.\u001b[39marray(goal_state)\n\u001b[1;32m     79\u001b[0m puzzle \u001b[39m=\u001b[39m Puzzle(initial_state, goal_state)\n\u001b[0;32m---> 81\u001b[0m solution \u001b[39m=\u001b[39m puzzle\u001b[39m.\u001b[39;49mSolve()\n\u001b[1;32m     83\u001b[0m \u001b[39mif\u001b[39;00m solution \u001b[39mis\u001b[39;00m \u001b[39mnot\u001b[39;00m \u001b[39mNone\u001b[39;00m:\n\u001b[1;32m     84\u001b[0m     moves \u001b[39m=\u001b[39m []\n",
      "Cell \u001b[0;32mIn[3], line 50\u001b[0m, in \u001b[0;36mPuzzle.Solve\u001b[0;34m(self)\u001b[0m\n\u001b[1;32m     47\u001b[0m \u001b[39mif\u001b[39;00m \u001b[39mself\u001b[39m\u001b[39m.\u001b[39mis_goal(cur_state\u001b[39m.\u001b[39mstate):\n\u001b[1;32m     48\u001b[0m     \u001b[39mreturn\u001b[39;00m cur_state\n\u001b[0;32m---> 50\u001b[0m \u001b[39mfor\u001b[39;00m move \u001b[39min\u001b[39;00m \u001b[39mself\u001b[39;49m\u001b[39m.\u001b[39;49mget_possible_moves(cur_state\u001b[39m.\u001b[39;49mstate):\n\u001b[1;32m     51\u001b[0m     move_state \u001b[39m=\u001b[39m State(move, cur_state)\n\u001b[1;32m     54\u001b[0m     \u001b[39mif\u001b[39;00m \u001b[39mstr\u001b[39m(move_state\u001b[39m.\u001b[39mstate) \u001b[39mnot\u001b[39;00m \u001b[39min\u001b[39;00m visited:\n",
      "Cell \u001b[0;32mIn[3], line 27\u001b[0m, in \u001b[0;36mPuzzle.get_possible_moves\u001b[0;34m(self, current_state)\u001b[0m\n\u001b[1;32m     25\u001b[0m \u001b[39m# check for boundaries\u001b[39;00m\n\u001b[1;32m     26\u001b[0m \u001b[39mfor\u001b[39;00m \u001b[39mdir\u001b[39m \u001b[39min\u001b[39;00m directions:\n\u001b[0;32m---> 27\u001b[0m     new_pos \u001b[39m=\u001b[39m (blank_pos[\u001b[39m0\u001b[39m] \u001b[39m+\u001b[39m \u001b[39mdir\u001b[39m[\u001b[39m0\u001b[39m], blank_pos[\u001b[39m1\u001b[39;49m] \u001b[39m+\u001b[39m \u001b[39mdir\u001b[39m[\u001b[39m1\u001b[39m])\n\u001b[1;32m     28\u001b[0m     \u001b[39mif\u001b[39;00m \u001b[39m0\u001b[39m \u001b[39m<\u001b[39m\u001b[39m=\u001b[39m new_pos[\u001b[39m0\u001b[39m] \u001b[39m<\u001b[39m \u001b[39m3\u001b[39m \u001b[39mand\u001b[39;00m \u001b[39m0\u001b[39m \u001b[39m<\u001b[39m\u001b[39m=\u001b[39m  new_pos[\u001b[39m1\u001b[39m] \u001b[39m<\u001b[39m \u001b[39m3\u001b[39m:  \n\u001b[1;32m     29\u001b[0m         new_state \u001b[39m=\u001b[39m np\u001b[39m.\u001b[39mcopy(current_state)\n",
      "\u001b[0;31mIndexError\u001b[0m: tuple index out of range"
     ]
    }
   ],
   "source": [
    "class State:\n",
    "    def __init__(self, state, parent):\n",
    "        self.state = state\n",
    "        self.parent = parent\n",
    "    \n",
    "    def __lt__(self, other):\n",
    "        return False\n",
    "\n",
    "class Puzzle:\n",
    "    def __init__(self, initial_state, goal_state):\n",
    "        self.initial_state = initial_state\n",
    "        self.goal_state = goal_state\n",
    "\n",
    "    def is_goal(self, current_state):\n",
    "        return np.array_equal(current_state, self.goal_state)\n",
    "\n",
    "    def print_state(self, state):\n",
    "        print(state[: ,:])\n",
    "\n",
    "\n",
    "    def get_possible_moves(self, current_state):\n",
    "        possible_moves = []\n",
    "        blank_pos = np.where(current_state == 0)\n",
    "        directions = [(0, -1),(0 , 1), (-1 , 0), (1 , 0)]\n",
    "        # check for boundaries\n",
    "        for dir in directions:\n",
    "            new_pos = (blank_pos[0] + dir[0], blank_pos[1] + dir[1])\n",
    "            if 0 <= new_pos[0] < 3 and 0 <=  new_pos[1] < 3:  \n",
    "                new_state = np.copy(current_state)\n",
    "                new_state[blank_pos], new_state[new_pos] = (new_state[new_pos], new_state[blank_pos])\n",
    "                possible_moves.append(new_state)\n",
    "        \n",
    "        return possible_moves\n",
    "\n",
    "    def heuristic(self, cur_state):\n",
    "        return np.count_nonzero(cur_state != self.goal_state)\n",
    "\n",
    "    def Solve(self):\n",
    "        queue = PriorityQueue()\n",
    "        initial_state = State(self.initial_state, None)\n",
    "        queue.put((0, initial_state))\n",
    "        visited = set()\n",
    "\n",
    "        while not queue.empty():\n",
    "            priority, cur_state = queue.get()\n",
    "\n",
    "            if self.is_goal(cur_state.state):\n",
    "                return cur_state\n",
    "            \n",
    "            for move in self.get_possible_moves(cur_state.state):\n",
    "                move_state = State(move, cur_state)\n",
    "       \n",
    "                \n",
    "                if str(move_state.state) not in visited:\n",
    "                    priority = self.heuristic(move_state)\n",
    "                    visited.add(str(move_state.state))\n",
    "                    queue.put((priority, move_state))\n",
    "        return None\n",
    "\n",
    "initial_state = []\n",
    "goal_state = []\n",
    "print('Enter the initial State: ')\n",
    "\n",
    "for _ in range(3):\n",
    "    row = input().split()\n",
    "    initial_state.append(row)\n",
    "\n",
    "initial_state = np.array(initial_state)\n",
    "\n",
    "print('Enter the goal State: ')\n",
    "\n",
    "\n",
    "for _ in range(3):\n",
    "    row = input().split()\n",
    "    goal_state.append(row)\n",
    "\n",
    "goal_state = np.array(goal_state)\n",
    "\n",
    "puzzle = Puzzle(initial_state, goal_state)\n",
    "\n",
    "solution = puzzle.Solve()\n",
    "\n",
    "if solution is not None:\n",
    "    moves = []\n",
    "    while solution is not None:\n",
    "        moves.append(solution.state)\n",
    "        solution = solution.parent\n",
    "    for move in reversed(moves):\n",
    "        puzzle.print_state(move)\n",
    "else:\n",
    "    print('No solution')\n"
   ]
  },
  {
   "cell_type": "code",
   "execution_count": null,
   "metadata": {},
   "outputs": [],
   "source": []
  }
 ],
 "metadata": {
  "kernelspec": {
   "display_name": "Python 3.10.13 ('Tensorflow_env')",
   "language": "python",
   "name": "python3"
  },
  "language_info": {
   "codemirror_mode": {
    "name": "ipython",
    "version": 3
   },
   "file_extension": ".py",
   "mimetype": "text/x-python",
   "name": "python",
   "nbconvert_exporter": "python",
   "pygments_lexer": "ipython3",
   "version": "3.10.13"
  },
  "orig_nbformat": 4,
  "vscode": {
   "interpreter": {
    "hash": "c63c42f66a454e7171000b0643a0e9df42081bc9794ade72c6b6e0ef4e7661bc"
   }
  }
 },
 "nbformat": 4,
 "nbformat_minor": 2
}
