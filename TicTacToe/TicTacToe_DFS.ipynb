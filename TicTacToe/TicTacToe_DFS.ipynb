{
 "cells": [
  {
   "cell_type": "code",
   "execution_count": 8,
   "metadata": {},
   "outputs": [
    {
     "name": "stdout",
     "output_type": "stream",
     "text": [
      "[[' ', ' ', ' '], [' ', ' ', ' '], [' ', ' ', ' ']]\n"
     ]
    }
   ],
   "source": [
    "board = [[' ' for _ in range(3)]for _ in range(3)]\n",
    "player = 'X'\n",
    "print(board)"
   ]
  },
  {
   "cell_type": "code",
   "execution_count": 11,
   "metadata": {},
   "outputs": [
    {
     "name": "stdout",
     "output_type": "stream",
     "text": [
      "  |   |  \n",
      "----------\n",
      "  |   |  \n",
      "----------\n",
      "  |   |  \n",
      "----------\n"
     ]
    }
   ],
   "source": [
    "def printBoard(board):\n",
    "    for row in board:\n",
    "        print(' | '.join(row))\n",
    "        print('-'*10)\n",
    "\n",
    "printBoard(board)"
   ]
  },
  {
   "cell_type": "code",
   "execution_count": 12,
   "metadata": {},
   "outputs": [
    {
     "data": {
      "text/plain": [
       "False"
      ]
     },
     "execution_count": 12,
     "metadata": {},
     "output_type": "execute_result"
    }
   ],
   "source": [
    "'''\n",
    "This method checks if the game is a draw. \n",
    "It iterates over each row of the board and checks if there is any empty space left. \n",
    "If there is no empty space left on the board, it means the game is a draw.\n",
    "'''\n",
    "def is_draw(board):\n",
    "    # Check if the game is a draw\n",
    "    for row in board:\n",
    "        if ' ' in row:\n",
    "            return False\n",
    "    return True\n",
    "\n",
    "is_draw(board)\n"
   ]
  },
  {
   "cell_type": "code",
   "execution_count": 14,
   "metadata": {},
   "outputs": [],
   "source": [
    "'''\n",
    "This method checks if the game is over, \n",
    "which can be due to a win by either player or a draw. It checks all rows, columns, \n",
    "and diagonals for a win. If any row, column, or diagonal has all 'X' or all 'O', \n",
    "it means the respective player has won.\n",
    "'''\n",
    "\n",
    "def is_game_over(board):\n",
    "    for row in board:\n",
    "        if row.count(row[0]) == len(board[0]) and row[0] != ' ':\n",
    "            return row[0]\n",
    "    \n",
    "    for col in range(len(board[0])):\n",
    "        cols = []\n",
    "        for row in board:\n",
    "            cols.append(row[col])\n",
    "        if cols.count(cols[0]) == len(board[0]) and cols[0] != ' ':\n",
    "            return cols[0]\n",
    "\n",
    "    if board[0][0] == board[1][1] == board[2][2]:\n",
    "        return board[0][0]\n",
    "    if board[0][2] == board[1][1] == board[2][1]:\n",
    "        return board[0][2]\n",
    "    \n",
    "    return False"
   ]
  },
  {
   "cell_type": "code",
   "execution_count": null,
   "metadata": {},
   "outputs": [],
   "source": []
  }
 ],
 "metadata": {
  "kernelspec": {
   "display_name": "Python 3.10.13 ('Tensorflow_env')",
   "language": "python",
   "name": "python3"
  },
  "language_info": {
   "codemirror_mode": {
    "name": "ipython",
    "version": 3
   },
   "file_extension": ".py",
   "mimetype": "text/x-python",
   "name": "python",
   "nbconvert_exporter": "python",
   "pygments_lexer": "ipython3",
   "version": "3.10.13"
  },
  "orig_nbformat": 4,
  "vscode": {
   "interpreter": {
    "hash": "c63c42f66a454e7171000b0643a0e9df42081bc9794ade72c6b6e0ef4e7661bc"
   }
  }
 },
 "nbformat": 4,
 "nbformat_minor": 2
}
